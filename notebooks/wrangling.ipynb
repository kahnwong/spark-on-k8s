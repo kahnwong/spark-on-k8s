{
 "cells": [
  {
   "cell_type": "code",
   "execution_count": null,
   "id": "79305dcc-7a17-46ed-a365-07d405348628",
   "metadata": {},
   "outputs": [],
   "source": [
    "from pyspark.sql import SparkSession\n",
    "import logging\n",
    "import pyspark.sql.functions as F\n",
    "from pyspark.sql import SparkSession\n",
    "from pyspark.sql.functions import coalesce\n",
    "from pyspark.sql.functions import col\n",
    "from pyspark.sql.functions import lit\n",
    "from pyspark.sql.functions import when\n",
    "from pyspark.sql.types import DoubleType\n",
    "from pyspark.sql.types import IntegerType\n",
    "from pyspark.sql.types import StringType\n",
    "from pyspark.sql.types import StructField\n",
    "from pyspark.sql.types import StructType\n",
    "from pyspark.sql.types import TimestampType\n",
    "from pyspark.sql.window import Window\n",
    "\n",
    "\n",
    "logger = logging.getLogger(__name__)\n",
    "handler = logging.StreamHandler()\n",
    "\n",
    "formatter = logging.Formatter(\"%(asctime)s - [%(levelname)s] - %(name)s - %(message)s\")\n",
    "handler.setFormatter(formatter)\n",
    "logger.addHandler(handler)\n",
    "\n",
    "logger.setLevel(logging.INFO)\n",
    "\n",
    "spark = SparkSession.builder.appName(\"PythonPi\").getOrCreate()"
   ]
  },
  {
   "cell_type": "markdown",
   "id": "65c4faab-3ef9-4664-952d-b0b0d3246b28",
   "metadata": {},
   "source": [
    "## admins"
   ]
  },
  {
   "cell_type": "code",
   "execution_count": null,
   "id": "1910f780-e136-4a66-a6ac-87d06ceef336",
   "metadata": {},
   "outputs": [],
   "source": [
    "df = spark.read.parquet(\n",
    "    \"/Users/kahnwong/Git/kahnwong/spark-on-k8s-playground/data/theme=admins\"\n",
    ")\n",
    "\n",
    "logger.info(df.show())\n",
    "logger.info(f\"count: {df.count()}\")"
   ]
  },
  {
   "cell_type": "code",
   "execution_count": null,
   "id": "f348b657-699c-4750-8fb0-0280111d539f",
   "metadata": {},
   "outputs": [],
   "source": [
    "agg_cols = [\n",
    "    \"isosubcountrycode\",\n",
    "    \"adminlevel\",\n",
    "    \"subtype\",\n",
    "    \"localitytype\",\n",
    "    \"drivingside\",\n",
    "    \"defaultlanugage\",\n",
    "]\n",
    "\n",
    "df.select(*agg_cols).groupBy(agg_cols).agg(F.count(\"*\")).show()"
   ]
  },
  {
   "cell_type": "code",
   "execution_count": null,
   "id": "299ef5c8-849f-4669-926a-7b762f2e551c",
   "metadata": {},
   "outputs": [],
   "source": [
    "df.select(*agg_cols).groupBy(agg_cols).agg(F.count(\"*\")).write.parquet(\n",
    "    \"data/output/agg_df_parquet\", mode=\"overwrite\"\n",
    ")"
   ]
  },
  {
   "cell_type": "markdown",
   "id": "611f0b43-7281-4ec6-b9f7-df1d7ac0f2d0",
   "metadata": {},
   "source": [
    "## buildings"
   ]
  },
  {
   "cell_type": "code",
   "execution_count": null,
   "id": "9aaab0cc-4c6f-476a-9680-d4b385bf75e9",
   "metadata": {},
   "outputs": [],
   "source": [
    "df = spark.read.parquet(\n",
    "    \"/Users/kahnwong/Git/kahnwong/spark-on-k8s-playground/data/theme=buildings\"\n",
    ")\n",
    "\n",
    "logger.info(df.show())\n",
    "logger.info(f\"count: {df.count()}\")"
   ]
  },
  {
   "cell_type": "code",
   "execution_count": null,
   "id": "b3f84fbf-e8d6-4b82-82f0-ca1a1c918014",
   "metadata": {},
   "outputs": [],
   "source": [
    "df = df.select(\"class\", F.to_date(\"updatetime\").alias(\"updatedate\"))"
   ]
  },
  {
   "cell_type": "code",
   "execution_count": null,
   "id": "2d6703e8-44fa-414a-a485-67448169cdf4",
   "metadata": {},
   "outputs": [],
   "source": [
    "agg_cols = [\n",
    "    \"class\",\n",
    "    \"updatedate\",\n",
    "]\n",
    "\n",
    "df.select(*agg_cols).groupBy(agg_cols).agg(F.count(\"*\")).show()"
   ]
  },
  {
   "cell_type": "code",
   "execution_count": null,
   "id": "82361d5f-e441-4388-88cb-adf2dff66723",
   "metadata": {},
   "outputs": [],
   "source": [
    "df.select(*agg_cols).groupBy(agg_cols).agg(F.count(\"*\")).write.parquet(\n",
    "    \"data/output/agg_df_parquet\", mode=\"overwrite\"\n",
    ")"
   ]
  },
  {
   "cell_type": "code",
   "execution_count": null,
   "id": "81c3424e-e648-4b17-bf86-25729b0e2794",
   "metadata": {},
   "outputs": [],
   "source": []
  },
  {
   "cell_type": "code",
   "execution_count": null,
   "id": "d93ef8a7-687b-4482-95a2-2d8d645d6e5f",
   "metadata": {},
   "outputs": [],
   "source": []
  }
 ],
 "metadata": {
  "kernelspec": {
   "display_name": "Python 3 (ipykernel)",
   "language": "python",
   "name": "python3"
  },
  "language_info": {
   "codemirror_mode": {
    "name": "ipython",
    "version": 3
   },
   "file_extension": ".py",
   "mimetype": "text/x-python",
   "name": "python",
   "nbconvert_exporter": "python",
   "pygments_lexer": "ipython3",
   "version": "3.10.8"
  }
 },
 "nbformat": 4,
 "nbformat_minor": 5
}
